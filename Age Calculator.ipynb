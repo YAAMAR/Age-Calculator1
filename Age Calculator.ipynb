{
 "cells": [
  {
   "cell_type": "markdown",
   "id": "9b3a7c8b-d90b-49ec-b414-a69c75fd1390",
   "metadata": {},
   "source": [
    " **Age Calculator**"
   ]
  },
  {
   "cell_type": "markdown",
   "id": "d9698cc3-dd11-4fd1-ab71-a6a5d6c40650",
   "metadata": {},
   "source": [
    "🎯 Goal\n",
    "Ask the user for their birth date\n",
    "\n",
    "Calculate their current age\n",
    "\n",
    "Optionally, show days until next birthday"
   ]
  },
  {
   "cell_type": "markdown",
   "id": "385fe2b5-afc5-42c7-8f6a-a57f630716f5",
   "metadata": {},
   "source": [
    " Import the Required Module"
   ]
  },
  {
   "cell_type": "code",
   "execution_count": 5,
   "id": "08d13fb3-d59c-474a-85f4-7d8bdf5e64af",
   "metadata": {},
   "outputs": [],
   "source": [
    "from datetime import datetime, date\n"
   ]
  },
  {
   "cell_type": "markdown",
   "id": "01904902-e6f8-48cd-abd5-a5080be1f413",
   "metadata": {},
   "source": [
    "Get User's Birth Date"
   ]
  },
  {
   "cell_type": "code",
   "execution_count": 8,
   "id": "61cb9f57-2fa8-4e7d-990d-c286554d8121",
   "metadata": {},
   "outputs": [
    {
     "name": "stdin",
     "output_type": "stream",
     "text": [
      "Enter your birth date (YYYY-MM-DD):  2002-04-08\n"
     ]
    }
   ],
   "source": [
    "birth_input = input(\"Enter your birth date (YYYY-MM-DD): \")\n",
    "birth_date = datetime.strptime(birth_input, \"%Y-%m-%d\").date()\n"
   ]
  },
  {
   "cell_type": "markdown",
   "id": "923b97e7-39c7-426e-98bd-1e2113c83c18",
   "metadata": {},
   "source": [
    "Calculate Age"
   ]
  },
  {
   "cell_type": "code",
   "execution_count": 9,
   "id": "68494f7b-291e-4b38-bc52-5c186f76bb62",
   "metadata": {},
   "outputs": [
    {
     "name": "stdout",
     "output_type": "stream",
     "text": [
      "You are 23 years old.\n"
     ]
    }
   ],
   "source": [
    "today = date.today()\n",
    "\n",
    "# Calculate full years\n",
    "age = today.year - birth_date.year\n",
    "\n",
    "# Adjust if birthday hasn't occurred yet this year\n",
    "if (today.month, today.day) < (birth_date.month, birth_date.day):\n",
    "    age -= 1\n",
    "\n",
    "print(f\"You are {age} years old.\")\n"
   ]
  },
  {
   "cell_type": "markdown",
   "id": "5f3b3266-b53b-4049-8688-40d0c7f6ede0",
   "metadata": {},
   "source": [
    "Days Until Next Birthday"
   ]
  },
  {
   "cell_type": "code",
   "execution_count": 10,
   "id": "0e8cb535-91e8-4424-a558-3081374b756a",
   "metadata": {},
   "outputs": [
    {
     "name": "stdout",
     "output_type": "stream",
     "text": [
      "Days until your next birthday: 319 days 🎉\n"
     ]
    }
   ],
   "source": [
    "next_birthday = date(today.year, birth_date.month, birth_date.day)\n",
    "\n",
    "if next_birthday < today:\n",
    "    next_birthday = date(today.year + 1, birth_date.month, birth_date.day)\n",
    "\n",
    "days_remaining = (next_birthday - today).days\n",
    "print(f\"Days until your next birthday: {days_remaining} days 🎉\")\n"
   ]
  },
  {
   "cell_type": "code",
   "execution_count": null,
   "id": "93e7098c-4356-4759-8184-6c20d4f24a16",
   "metadata": {},
   "outputs": [],
   "source": []
  }
 ],
 "metadata": {
  "kernelspec": {
   "display_name": "Python 3 (ipykernel)",
   "language": "python",
   "name": "python3"
  },
  "language_info": {
   "codemirror_mode": {
    "name": "ipython",
    "version": 3
   },
   "file_extension": ".py",
   "mimetype": "text/x-python",
   "name": "python",
   "nbconvert_exporter": "python",
   "pygments_lexer": "ipython3",
   "version": "3.12.7"
  }
 },
 "nbformat": 4,
 "nbformat_minor": 5
}
